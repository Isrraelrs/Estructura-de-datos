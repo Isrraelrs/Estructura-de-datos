{
 "cells": [
  {
   "cell_type": "code",
   "execution_count": 8,
   "metadata": {},
   "outputs": [
    {
     "name": "stdout",
     "output_type": "stream",
     "text": [
      "Ingresa tu mensaje: isrrael ramirez sariñana\n",
      "Ingresa un valor del 1 al 25: 23\n",
      "fpooxbi oxjfobw pxofñxkx\n"
     ]
    }
   ],
   "source": [
    "import string\n",
    "alfabeto = list(string.ascii_lowercase + string.ascii_uppercase) \n",
    "textointro = input(\"Ingresa tu mensaje: \")\n",
    "n = int(input(\"Ingresa un valor del 1 al 25: \"))\n",
    "texto_cifrado = \"\" \n",
    "if 0 < n < 26: \n",
    "    for letra in textointro:\n",
    "        if letra in alfabeto: \n",
    "            id_actual = alfabeto.index(letra)\n",
    "            id_cesar = id_actual + n\n",
    "            if id_cesar > 26:\n",
    "                id_cesar -= 26\n",
    "            texto_cifrado += alfabeto[id_cesar]\n",
    "        else:\n",
    "            texto_cifrado += letra\n",
    "    print(texto_cifrado)\n",
    "else:\n",
    "    print(\"Numero introducido fuera de rango\")\n"
   ]
  },
  {
   "cell_type": "code",
   "execution_count": null,
   "metadata": {},
   "outputs": [],
   "source": []
  },
  {
   "cell_type": "code",
   "execution_count": null,
   "metadata": {},
   "outputs": [],
   "source": []
  }
 ],
 "metadata": {
  "kernelspec": {
   "display_name": "Python 3",
   "language": "python",
   "name": "python3"
  },
  "language_info": {
   "codemirror_mode": {
    "name": "ipython",
    "version": 3
   },
   "file_extension": ".py",
   "mimetype": "text/x-python",
   "name": "python",
   "nbconvert_exporter": "python",
   "pygments_lexer": "ipython3",
   "version": "3.8.3"
  }
 },
 "nbformat": 4,
 "nbformat_minor": 4
}
