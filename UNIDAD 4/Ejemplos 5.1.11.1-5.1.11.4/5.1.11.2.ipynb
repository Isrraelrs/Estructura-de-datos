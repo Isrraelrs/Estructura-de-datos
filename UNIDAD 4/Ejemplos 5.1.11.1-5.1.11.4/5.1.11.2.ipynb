{
 "cells": [
  {
   "cell_type": "code",
   "execution_count": 1,
   "metadata": {},
   "outputs": [
    {
     "name": "stdout",
     "output_type": "stream",
     "text": [
      "Ingresa tu criptograma: JTSSBFMSBNJSFATBSJABOB\n",
      "ISRRAELRAMIREZSARIZANA\n"
     ]
    }
   ],
   "source": [
    "#La operación inversa ahora debería ser clara para ti: solo presentamos el código tal como está, sin ninguna explicación.\n",
    "\n",
    "#Observa el código en el editor. Comprueba cuidadosamente si funciona. Usa el criptograma del programa anterior.\n",
    "# Cifrado César - descifrar un mensaje\n",
    "cifrado = input('Ingresa tu criptograma: ')\n",
    "text = ''\n",
    "for char in cifrado:\n",
    "    if not char.isalpha():\n",
    "        continue\n",
    "    char = char.upper()\n",
    "    code = ord(char) - 1\n",
    "    if code < ord('A'):\n",
    "        code = ord('Z')\n",
    "    text += chr(code)\n",
    "\n",
    "print(text)"
   ]
  },
  {
   "cell_type": "code",
   "execution_count": null,
   "metadata": {},
   "outputs": [],
   "source": []
  }
 ],
 "metadata": {
  "kernelspec": {
   "display_name": "Python 3",
   "language": "python",
   "name": "python3"
  },
  "language_info": {
   "codemirror_mode": {
    "name": "ipython",
    "version": 3
   },
   "file_extension": ".py",
   "mimetype": "text/x-python",
   "name": "python",
   "nbconvert_exporter": "python",
   "pygments_lexer": "ipython3",
   "version": "3.8.3"
  }
 },
 "nbformat": 4,
 "nbformat_minor": 4
}
